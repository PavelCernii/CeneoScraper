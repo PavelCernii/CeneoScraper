{
 "cells": [
  {
   "cell_type": "markdown",
   "metadata": {},
   "source": [
    "### import bibliotek"
   ]
  },
  {
   "cell_type": "code",
   "execution_count": null,
   "metadata": {},
   "outputs": [],
   "source": [
    "import os\n",
    "import json\n",
    "import requests \n",
    "from bs4 import BeautifulSoup"
   ]
  },
  {
   "cell_type": "markdown",
   "metadata": {},
   "source": [
    "### Wysłanie żądania dostępu do strony internretowej z opiniami o produkcie "
   ]
  },
  {
   "cell_type": "code",
   "execution_count": null,
   "metadata": {},
   "outputs": [],
   "source": [
    "\n",
    "\n",
    "headers = {\n",
    "    \"Cookie\":\"sv3=1.0_6bd134ff-151f-11f0-9e99-7c1c3b6fec11; __RequestVerificationToken=wwLDXsg3Uuah3cEzW1fqvJTcJ90KeXJL3Ab6aMhtNUoaU-9fp8nCTPGVkLefnluqOz6m5FpwYLlLsAfChZ8KIcrkJifnQqCaWA0FvuH8vTQ1; userCeneo=ID=d7679f25-accf-47e3-b9ff-195986a8a19f; __utmf=a74e177af2dad576aa770a2ad74bd8eb_k2wCRI6tAVSgxOOwMsWh%2Bvo35Yf981ST; appType=%7B%22Value%22%3A1%7D; cProdCompare_v2=; browserBlStatus=0; __eoi=ID=f486909af682d15b:T=1744188518:RT=1744188518:S=AA-AfjY0dnqIkDBA-pXcq6f2BZGt; _gcl_au=1.1.540495262.1744188522; consentcookie=eyJBZ3JlZUFsbCI6dHJ1ZSwiQ29uc2VudHMiOlsxLDMsNCwyXSwiVENTdHJpbmciOiJDUVBtVFVBUVBtVFVBR3lBQkJQTEJrRXNBUF9nQUFBQUFCNVlJTnBEN0JiQkxVRkF3RmhqWUtzUU1JRVRVTUNBQW9RQUFBYUJBQ0FCUUFLUUlBUUNra0FRQkFTZ0JBQUNBQUFBSUNSQklRQU1BQUFBQ0VBQVFBQUFJQUFFQUFDUUJRQUlBQUFBZ0FBUUFBQVlBQUFpQUlBQUFBQUlnQUlBRUFBQW1RaEFBQUlBRUVBQWhBQUVJQUFBQUFBQUFBQUFBZ0FBQUFBQ0FBSUFBQUFBQUNBQUFJSU5nQUFBQUFBQUFBQUFBQUFBQUFBQUFBQUFBQUFBQUFBQUFBQUFBQUFBQUFBQUFBQUFBQUFBQUFBQUFBQUFBQUFBQUFBQUFBQUFBQUFBQUFBQUFBQUFBQUFBQUFBQUFBQUFBQUFBQUFBQUFBQUFBQUFBQUFBQUFBQUFBQUFBQUFBQUFBQUFBQUFBQUFBQUFBQUFBQUFBQUFBQUFBQUFBQUFBQUFBQUFBQUFBQUFBQUFBQUJZS0FEQUFFRUd3a0FHQUFJSU5ob0FNQUFRUWJFUUFZQUFnZzJLZ0F3QUJCQnNaQUJnQUNDRFk2QURBQUVFR3lFQUdBQUlJTmtvQU1BQVFRYktRQVlBQWdnMldnQXdBQkJCc0EiLCJWZXJzaW9uIjoidjMifQ==; nps3=SessionStartTime=1744188573,SurveyId=64\",\n",
    "    \"Host\":\"www.ceneo.pl\",\n",
    "    \"User-Agent\":\"Mozilla/5.0 (Windows NT 10.0; Win64; x64) AppleWebKit/537.36 (KHTML, like Gecko) Chrome/132.0.0.0 Safari/537.36 OPR/117.0.0.0\"\n",
    "}"
   ]
  },
  {
   "cell_type": "code",
   "execution_count": null,
   "metadata": {},
   "outputs": [],
   "source": [
    "product_id = '84514582'\n",
    "url = f'https://www.ceneo.pl/{product_id}#tab=reviews_scroll'\n",
    "all_opinions = []\n",
    "response = requests.get(url, headers=headers)"
   ]
  },
  {
   "cell_type": "markdown",
   "metadata": {},
   "source": [
    "### Jeżeli operacja zakończy się powozeniem, weodrębnienie w kodu strony opini o produkcie \n"
   ]
  },
  {
   "cell_type": "code",
   "execution_count": null,
   "metadata": {},
   "outputs": [],
   "source": [
    "if response.status_code == 200:\n",
    "    page_dom = BeautifulSoup(response.text, 'html.parser')\n",
    "    opinions = page_dom.select('div.js_product-review:not(.user-post--highlight)')"
   ]
  },
  {
   "cell_type": "markdown",
   "metadata": {},
   "source": [
    "### Dla każdej opinii wyodrębnienie z kodu HTML poszczególnych składowych i przysylanie ich do elementów zlożonej struktury danych\n"
   ]
  },
  {
   "cell_type": "code",
   "execution_count": null,
   "metadata": {},
   "outputs": [],
   "source": [
    "for opinion in opinions:\n",
    "    try:\n",
    "        single_opinion = {\n",
    "        \"author\" : opinion.select_one(\"span.user-post__author-name\").text.strip(),\n",
    "        \"recommendation\" : opinion.select_one(\"span.user-post__author-recomendation > em\").text.strip(),\n",
    "        \"stars\" : opinion.select_one(\"span.user-post__score-count\").text.strip(),\n",
    "        \"content\" : opinion.select_one(\"div.user-post__text\").text.strip(),\n",
    "        \"pros\" : [p.text.strip() for p in opinion.select(\"div.review-feature__item--positive\")],\n",
    "        \"cons\" : [c.text.strip() for c in opinion.select(\"div.review-feature__item--negative\")],\n",
    "        \"useful\" : opinion.select_one(\"button.vote-yes > span\").text.strip(),\n",
    "        \"unuseful\" : opinion.select_one(\"button.vote-no > span\").text.strip(),\n",
    "        \"post_date\" : opinion.select_one(\"span.user-post__published > time:nth-of-type(1)\")['datetime'].strip(),\n",
    "        \"purchase_date\" : opinion.select_one(\"span.user-post__published > time:nth-of-type(2)\")['datetime'].strip(),\n",
    "        }\n",
    "        all_opinions.append(single_opinion)\n",
    "        print(single_opinion)\n",
    "    except (AttributeError, TypeError):\n",
    "        pass\n",
    "    "
   ]
  },
  {
   "cell_type": "code",
   "execution_count": null,
   "metadata": {},
   "outputs": [],
   "source": [
    "print(type(single_opinion['author']))"
   ]
  },
  {
   "cell_type": "markdown",
   "metadata": {},
   "source": [
    "### Jeśli istneje kolejna strona z opiniami, przejście do niej i powtórzen dla niej kroków 1-4\n"
   ]
  },
  {
   "cell_type": "code",
   "execution_count": null,
   "metadata": {},
   "outputs": [],
   "source": [
    "product_id = \"84514582\"\n",
    "next_page = (f\"https://www.ceneo.pl/{product_id}#tab=reviews\")\n",
    "all_opinions = []\n",
    "while next_page:\n",
    "    response = requests.get(next_page,headers=headers)\n",
    "    if response.status_code == 200:\n",
    "        page_dom = BeautifulSoup(response.text, \"html.parser\")\n",
    "        opinions = page_dom.select(\"div.js_product-review:not(.user-post--highlight)\")\n",
    "        for opinion in opinions:\n",
    "            try:\n",
    "                single_opinion = {\n",
    "                    \"author\": opinion.select_one(\"span.user-post__author-name\").text.strip(),\n",
    "                    \"recommendation\": opinion.select_one(\"span.user-post__author-recomendation > em\").text.strip(),\n",
    "                    \"stars\": opinion.select_one(\"span.user-post__score-count\").text.strip(),\n",
    "                    \"content\": opinion.select_one(\"div.user-post__text\").text.strip(),\n",
    "                    \"pros\": [p.text.strip() for p in opinion.select(\"div.review-feature__item--positive\")],\n",
    "                    \"cons\": [c.text.strip() for c in opinion.select(\"div.review-feature__item--negative\")],\n",
    "                    \"useful\": opinion.select_one(\"button.vote-yes > span\").text.strip(),\n",
    "                    \"useless\": opinion.select_one(\"button.vote-no > span\").text.strip(),\n",
    "                    \"post_date\": opinion.select_one(\"span.user-post__published > time:nth-child(1)\")['datetime'].strip(),\n",
    "                    \"purchase_date\": opinion.select_one(\"span.user-post__published > time:nth-child(2)\")['datetime'].strip(),\n",
    "                }\n",
    "                all_opinions.append(single_opinion)\n",
    "            except (AttributeError, TypeError):\n",
    "                pass\n",
    "        next_page_element = page_dom.select_one(\"a.pagination__next\")\n",
    "        try:\n",
    "            next_page = \"https://www.ceneo.pl\" + next_page_element[\"href\"]\n",
    "            print(next_page)\n",
    "        except TypeError:\n",
    "            next_page = None\n",
    "            print(\"Brak kolejnej strony.\")\n",
    "    else:\n",
    "        print(f\"{response.status_code}\")"
   ]
  },
  {
   "cell_type": "markdown",
   "metadata": {},
   "source": [
    "### Zapisanie wyników do bazy danych \n"
   ]
  },
  {
   "cell_type": "code",
   "execution_count": null,
   "metadata": {},
   "outputs": [],
   "source": [
    "if not os.path.exists(\"./opinions\"):\n",
    "    os.mkdir(\"./opinions\")"
   ]
  },
  {
   "cell_type": "code",
   "execution_count": null,
   "metadata": {},
   "outputs": [],
   "source": [
    "with open(f\"./opinions/{product_id}.json\", \"w\", encoding=\"UTF-8\") as jf:\n",
    "    json.dump(all_opinions, jf, indent=4, ensure_ascii=False)"
   ]
  }
 ],
 "metadata": {
  "kernelspec": {
   "display_name": ".venv",
   "language": "python",
   "name": "python3"
  },
  "language_info": {
   "codemirror_mode": {
    "name": "ipython",
    "version": 3
   },
   "file_extension": ".py",
   "mimetype": "text/x-python",
   "name": "python",
   "nbconvert_exporter": "python",
   "pygments_lexer": "ipython3",
   "version": "3.11.9"
  }
 },
 "nbformat": 4,
 "nbformat_minor": 2
}
