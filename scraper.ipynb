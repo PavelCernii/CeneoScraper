{
 "cells": [
  {
   "cell_type": "markdown",
   "metadata": {},
   "source": [
    "### import bibliotek"
   ]
  },
  {
   "cell_type": "code",
   "execution_count": 107,
   "metadata": {},
   "outputs": [],
   "source": [
    "import os\n",
    "import json\n",
    "import requests \n",
    "from bs4 import BeautifulSoup"
   ]
  },
  {
   "cell_type": "markdown",
   "metadata": {},
   "source": [
    "### Narzędzia"
   ]
  },
  {
   "cell_type": "code",
   "execution_count": 108,
   "metadata": {},
   "outputs": [],
   "source": [
    "def exctract(ancestor, selector=None, attribute=None, multiple=False):\n",
    "    if selector:\n",
    "        if multiple:\n",
    "            if attribute:\n",
    "                return [tag[attribute].strip() for tag in ancestor.select(selector)]\n",
    "            return [tag.text.strip() for tag in ancestor.select(selector)]    \n",
    "        if attribute:\n",
    "            try:\n",
    "                return ancestor.select_one(selector)[attribute].strip()\n",
    "            except TypeError:\n",
    "                return None\n",
    "        try:\n",
    "            return ancestor.select_one(selector).text.strip(),\n",
    "        except AttributeError:\n",
    "            return None\n",
    "    if attribute:\n",
    "        return ancestor[attribute].strip()\n",
    "    return ancestor.text.strip()"
   ]
  },
  {
   "cell_type": "code",
   "execution_count": 109,
   "metadata": {},
   "outputs": [],
   "source": [
    "selectors = {\n",
    "    \"opinion_id\": (None, \"data-entry-id\"),\n",
    "    \"author\": (\"span.user-post__author-name\",),\n",
    "    \"recommendation\": (\"span.user-post__author-recomendation > em\",),\n",
    "    \"stars\": (\"span.user-post__score-count\",),\n",
    "    \"content\": (\"div.user-post__text\",),\n",
    "    \"pros\": (\"div.review-feature__item--positive\", None, True),\n",
    "    \"cons\": (\"div.review-feature__item--negative\", None, True),\n",
    "    \"useful\": (\"button.vote-yes > span\",),\n",
    "    \"useless\": (\"button.vote-no > span\",),\n",
    "    \"post_date\": (\"span.user-post__published > time:nth-child(1)\", \"datetime\"),\n",
    "    \"purchase_date\": (\"span.user-post__published > time:nth-child(2)\", \"datetime\"),\n",
    "}\n"
   ]
  },
  {
   "cell_type": "markdown",
   "metadata": {},
   "source": [
    "### Wysłanie żądania dostępu do strony internretowej z opiniami o produkcie "
   ]
  },
  {
   "cell_type": "markdown",
   "metadata": {},
   "source": []
  },
  {
   "cell_type": "code",
   "execution_count": 110,
   "metadata": {},
   "outputs": [],
   "source": [
    "\n",
    "\n",
    "headers = {\n",
    "    \"Cookie\":\"sv3=1.0_6bd134ff-151f-11f0-9e99-7c1c3b6fec11; __RequestVerificationToken=wwLDXsg3Uuah3cEzW1fqvJTcJ90KeXJL3Ab6aMhtNUoaU-9fp8nCTPGVkLefnluqOz6m5FpwYLlLsAfChZ8KIcrkJifnQqCaWA0FvuH8vTQ1; userCeneo=ID=d7679f25-accf-47e3-b9ff-195986a8a19f; __utmf=a74e177af2dad576aa770a2ad74bd8eb_k2wCRI6tAVSgxOOwMsWh%2Bvo35Yf981ST; appType=%7B%22Value%22%3A1%7D; cProdCompare_v2=; browserBlStatus=0; __eoi=ID=f486909af682d15b:T=1744188518:RT=1744188518:S=AA-AfjY0dnqIkDBA-pXcq6f2BZGt; _gcl_au=1.1.540495262.1744188522; consentcookie=eyJBZ3JlZUFsbCI6dHJ1ZSwiQ29uc2VudHMiOlsxLDMsNCwyXSwiVENTdHJpbmciOiJDUVBtVFVBUVBtVFVBR3lBQkJQTEJrRXNBUF9nQUFBQUFCNVlJTnBEN0JiQkxVRkF3RmhqWUtzUU1JRVRVTUNBQW9RQUFBYUJBQ0FCUUFLUUlBUUNra0FRQkFTZ0JBQUNBQUFBSUNSQklRQU1BQUFBQ0VBQVFBQUFJQUFFQUFDUUJRQUlBQUFBZ0FBUUFBQVlBQUFpQUlBQUFBQUlnQUlBRUFBQW1RaEFBQUlBRUVBQWhBQUVJQUFBQUFBQUFBQUFBZ0FBQUFBQ0FBSUFBQUFBQUNBQUFJSU5nQUFBQUFBQUFBQUFBQUFBQUFBQUFBQUFBQUFBQUFBQUFBQUFBQUFBQUFBQUFBQUFBQUFBQUFBQUFBQUFBQUFBQUFBQUFBQUFBQUFBQUFBQUFBQUFBQUFBQUFBQUFBQUFBQUFBQUFBQUFBQUFBQUFBQUFBQUFBQUFBQUFBQUFBQUFBQUFBQUFBQUFBQUFBQUFBQUFBQUFBQUFBQUFBQUFBQUFBQUFBQUFBQUFBQUFBQUJZS0FEQUFFRUd3a0FHQUFJSU5ob0FNQUFRUWJFUUFZQUFnZzJLZ0F3QUJCQnNaQUJnQUNDRFk2QURBQUVFR3lFQUdBQUlJTmtvQU1BQVFRYktRQVlBQWdnMldnQXdBQkJCc0EiLCJWZXJzaW9uIjoidjMifQ==; nps3=SessionStartTime=1744188573,SurveyId=64\",\n",
    "    \"Host\":\"www.ceneo.pl\",\n",
    "    \"User-Agent\":\"Mozilla/5.0 (Windows NT 10.0; Win64; x64) AppleWebKit/537.36 (KHTML, like Gecko) Chrome/132.0.0.0 Safari/537.36 OPR/117.0.0.0\"\n",
    "}"
   ]
  },
  {
   "cell_type": "code",
   "execution_count": 111,
   "metadata": {},
   "outputs": [],
   "source": [
    "product_id = '84514582'\n",
    "url = f'https://www.ceneo.pl/{product_id}#tab=reviews_scroll'\n",
    "all_opinions = []\n",
    "response = requests.get(url, headers=headers)"
   ]
  },
  {
   "cell_type": "markdown",
   "metadata": {},
   "source": [
    "### Jeżeli operacja zakończy się powozeniem, weodrębnienie w kodu strony opini o produkcie \n"
   ]
  },
  {
   "cell_type": "code",
   "execution_count": 112,
   "metadata": {},
   "outputs": [],
   "source": [
    "if response.status_code == 200:\n",
    "    page_dom = BeautifulSoup(response.text, 'html.parser')\n",
    "    opinions = page_dom.select('div.js_product-review:not(.user-post--highlight)')"
   ]
  },
  {
   "cell_type": "markdown",
   "metadata": {},
   "source": [
    "### Dla każdej opinii wyodrębnienie z kodu HTML poszczególnych składowych i przysylanie ich do elementów zlożonej struktury danych\n"
   ]
  },
  {
   "cell_type": "code",
   "execution_count": 113,
   "metadata": {},
   "outputs": [
    {
     "name": "stdout",
     "output_type": "stream",
     "text": [
      "{'author': 'b...a', 'recommendation': 'Polecam', 'stars': '4/5', 'content': 'Wykonana dobrze, trochę za duża, z ledwością mieści mi się na biurku, ale może być. Drukuje ciszej w porównaniu z poprzednią drukarką HP 209a. Napełniłam tusze do pełna i po ok.10 kartkach ubyło mi 4 mm czarnego tuszu w pojemniku. Mam nadzieję, że będzie wydajna. Na razie nie mogę tego stwierdzić. Fajnie, że można zobaczyć, ile ubyło tuszu. Dolewanie jest banalnie proste, tusz nie wylewa się. Martwi mnie tylko, że przenosić trzeba ją w pozycji poziomej, bo inaczej tusz może się wylewać. Ogólnie jestem zadowolona z zakupu.', 'pros': ['czyste napełnianie atramentem', 'głośność pracy'], 'cons': [], 'useful': '3', 'unuseful': '3', 'post_date': '2020-12-10 19:41:04', 'purchase_date': '2020-12-04 21:02:01'}\n",
      "{'author': 'U...o', 'recommendation': 'Polecam', 'stars': '4,5/5', 'content': 'Po 1 dniu uzytkowania mozna stwierdzic 1-polaczenie z kompem poprzez wi fi-bez problemu\\n2-tankowanie zbiorniczkow-bez problemu\\n3-montaz ,,glowic,,-beznadziejny dostep,jakies pomaranczowe badziewie ciezko wydostac z wnetrza drukarki(po cholere takie zabezpieczenie)ale udalo sie\\n4-polaczenie z telefonem -bez problemu\\n5-jak z kompa tak i z telefonu(za posrednictwem aplikacji  HP SMART) bez problemow\\n6-druk na zwyklym papierze spoko (czern i kolor )\\n7-po testach na papierze foto -zobaczymy\\n8-ogolnie -za taka kase polecam', 'pros': ['czyste napełnianie atramentem', 'jakość wydruków', 'jakość wydruku', 'niski koszt wydruku', 'szybkość wydruku', 'wydajna', 'wydajność'], 'cons': ['głośność pracy'], 'useful': '0', 'unuseful': '0', 'post_date': '2024-01-12 21:03:08', 'purchase_date': '2024-01-09 18:20:01'}\n",
      "{'author': 'k...l', 'recommendation': 'Polecam', 'stars': '4/5', 'content': 'Wszystko z opisu się zgadza. Baaardzo ekonomiczna, jakość druku wysoka, jak na czołg drukarkowy niewielka... Przypomniałem sobie tyko dlaczego nie lubię HP-ków. Mało intuicyjna aplikacja, nie tak denerwująca jak kiedyś ale konfiguracja trwała zbyt długo. A poza tym zupełnie spoko.', 'pros': [], 'cons': [], 'useful': '3', 'unuseful': '0', 'post_date': '2021-11-18 17:47:41', 'purchase_date': '2021-11-01 18:36:33'}\n",
      "{'author': 'Użytkownik Ceneo', 'recommendation': 'Polecam', 'stars': '4/5', 'content': 'Bardzo wydajna i oszczędna drukarka. Solidna, dobra jakość wykonania.\\nDługo się czeka przy włączeniu zanim będzie gotowa do pracy. Dość głośna.', 'pros': ['jakość wydruków', 'jakość wydruku'], 'cons': ['głośność pracy', 'szybkość wydruku'], 'useful': '1', 'unuseful': '1', 'post_date': '2021-04-14 00:32:31', 'purchase_date': '2021-03-23 08:31:21'}\n",
      "{'author': 'p...m', 'recommendation': 'Nie polecam', 'stars': '1/5', 'content': 'Drukarka jak na tą cenę jest bardzo słaba, Czas  potrzebny do wydrukowania pierwszej strony to prawie dwie minuty. A odgłosy wydaje takie, jakby za chwilę miała rozpaść się. W tej cenie należałoby też oczekiwać dwustronnego automatycznego wydruku. Wprawdzie info o dwustronnym wydruku jest na stronie sklepu, ale w rzeczywistości nie ma to nic wspólnego z dwustronnym wydrukiem, kartkę trzeba przenosić ręcznie zgodnie z wyświetlona instrukcją.', 'pros': [], 'cons': ['głośność pracy', 'jakość wydruków', 'jakość wydruku', 'szybkość wydruku'], 'useful': '6', 'unuseful': '1', 'post_date': '2020-12-26 21:42:32', 'purchase_date': '2020-11-26 08:21:40'}\n",
      "{'author': 'm...i', 'recommendation': 'Nie polecam', 'stars': '0,5/5', 'content': 'Niestety pierwsze wrazenie po uruchomieniu sprzetu negatywne. Odrazu trzeba bylo skladac reklamacje poniewaz jakosc druku odbiegała od normy. Po zgloszeniu okazalo sie ze jest uszkodzona glowica. Zobaczymy jak przyjdzie nowa glowica czy cos to da. Jaknarazie to wielka porażka a myslalam ze sprzet za ta cene bedzie działał bez zarzutu. Niestety pomyliłam się.', 'pros': [], 'cons': [], 'useful': '8', 'unuseful': '4', 'post_date': '2020-10-20 18:00:33', 'purchase_date': '2020-10-16 15:51:18'}\n"
     ]
    }
   ],
   "source": [
    "for opinion in opinions:\n",
    "    try:\n",
    "        single_opinion = {\n",
    "        \"author\" : opinion.select_one(\"span.user-post__author-name\").text.strip(),\n",
    "        \"recommendation\" : opinion.select_one(\"span.user-post__author-recomendation > em\").text.strip(),\n",
    "        \"stars\" : opinion.select_one(\"span.user-post__score-count\").text.strip(),\n",
    "        \"content\" : opinion.select_one(\"div.user-post__text\").text.strip(),\n",
    "        \"pros\" : [p.text.strip() for p in opinion.select(\"div.review-feature__item--positive\")],\n",
    "        \"cons\" : [c.text.strip() for c in opinion.select(\"div.review-feature__item--negative\")],\n",
    "        \"useful\" : opinion.select_one(\"button.vote-yes > span\").text.strip(),\n",
    "        \"unuseful\" : opinion.select_one(\"button.vote-no > span\").text.strip(),\n",
    "        \"post_date\" : opinion.select_one(\"span.user-post__published > time:nth-of-type(1)\")['datetime'].strip(),\n",
    "        \"purchase_date\" : opinion.select_one(\"span.user-post__published > time:nth-of-type(2)\")['datetime'].strip(),\n",
    "        }\n",
    "        all_opinions.append(single_opinion)\n",
    "        print(single_opinion)\n",
    "    except (AttributeError, TypeError):\n",
    "        pass\n",
    "    "
   ]
  },
  {
   "cell_type": "code",
   "execution_count": 114,
   "metadata": {},
   "outputs": [
    {
     "name": "stdout",
     "output_type": "stream",
     "text": [
      "<class 'str'>\n"
     ]
    }
   ],
   "source": [
    "print(type(single_opinion['author']))"
   ]
  },
  {
   "cell_type": "markdown",
   "metadata": {},
   "source": [
    "### Jeśli istneje kolejna strona z opiniami, przejście do niej i powtórzen dla niej kroków 1-4\n"
   ]
  },
  {
   "cell_type": "code",
   "execution_count": 115,
   "metadata": {},
   "outputs": [
    {
     "name": "stdout",
     "output_type": "stream",
     "text": [
      "Brak kolejnej strony.\n"
     ]
    }
   ],
   "source": [
    "product_id = \"176611863\"\n",
    "next_page = (f\"https://www.ceneo.pl/{product_id}#tab=reviews\")\n",
    "all_opinions = []\n",
    "while next_page:\n",
    "    response = requests.get(next_page,headers=headers)\n",
    "    if response.status_code == 200:\n",
    "        page_dom = BeautifulSoup(response.text, \"html.parser\")\n",
    "        opinions = page_dom.select(\"div.js_product-review:not(.user-post--highlight)\")\n",
    "        for opinion in opinions:\n",
    "\n",
    "            single_opinion = {\n",
    "                key: exctract(opinion,*value)\n",
    "                for key, value in selectors.items()\n",
    "            }\n",
    "            all_opinions.append(single_opinion)\n",
    "\n",
    "        try:\n",
    "            next_page = \"https://www.ceneo.pl\" + exctract(page_dom, \"a.pagination__next\",\"href\")\n",
    "        except TypeError:\n",
    "            next_page = None\n",
    "            print(\"Brak kolejnej strony.\")\n",
    "    else:\n",
    "        print(f\"{response.status_code}\")"
   ]
  },
  {
   "cell_type": "markdown",
   "metadata": {},
   "source": [
    "### Zapisanie wyników do bazy danych \n"
   ]
  },
  {
   "cell_type": "code",
   "execution_count": 116,
   "metadata": {},
   "outputs": [],
   "source": [
    "if not os.path.exists(\"./opinions\"):\n",
    "    os.mkdir(\"./opinions\")"
   ]
  },
  {
   "cell_type": "code",
   "execution_count": 117,
   "metadata": {},
   "outputs": [],
   "source": [
    "with open(f\"./opinions/{product_id}.json\", \"w\", encoding=\"UTF-8\") as jf:\n",
    "    json.dump(all_opinions, jf, indent=4, ensure_ascii=False)"
   ]
  }
 ],
 "metadata": {
  "kernelspec": {
   "display_name": ".venv",
   "language": "python",
   "name": "python3"
  },
  "language_info": {
   "codemirror_mode": {
    "name": "ipython",
    "version": 3
   },
   "file_extension": ".py",
   "mimetype": "text/x-python",
   "name": "python",
   "nbconvert_exporter": "python",
   "pygments_lexer": "ipython3",
   "version": "3.11.9"
  }
 },
 "nbformat": 4,
 "nbformat_minor": 2
}
